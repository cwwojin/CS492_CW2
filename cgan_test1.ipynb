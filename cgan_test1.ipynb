{
 "cells": [
  {
   "cell_type": "markdown",
   "metadata": {},
   "source": [
    "# CGAN"
   ]
  },
  {
   "cell_type": "markdown",
   "metadata": {},
   "source": [
    "# Imports"
   ]
  },
  {
   "cell_type": "code",
   "execution_count": 1,
   "metadata": {},
   "outputs": [
    {
     "name": "stdout",
     "output_type": "stream",
     "text": [
      "mps\n"
     ]
    }
   ],
   "source": [
    "import os\n",
    "import numpy as np\n",
    "import torchvision.transforms as transforms\n",
    "from torchvision.utils import save_image\n",
    "from torch.utils.data import Dataset, DataLoader\n",
    "from torchvision import datasets\n",
    "from torch.autograd import Variable\n",
    "import torch.nn as nn\n",
    "import torch.nn.functional as F\n",
    "import torch\n",
    "import torch.optim as optim\n",
    "\n",
    "FloatTensor = torch.FloatTensor\n",
    "LongTensor = torch.LongTensor\n",
    "\n",
    "if torch.backends.mps.is_available():\n",
    "    device = torch.device(\"mps\")\n",
    "elif torch.cuda.is_available():\n",
    "    device = torch.device(\"cuda\")\n",
    "else:\n",
    "    device = torch.device(\"cpu\")\n",
    "\n",
    "print(device)"
   ]
  },
  {
   "cell_type": "markdown",
   "metadata": {},
   "source": [
    "# Parameters"
   ]
  },
  {
   "cell_type": "code",
   "execution_count": 2,
   "metadata": {},
   "outputs": [],
   "source": [
    "os.makedirs(\"./images/cgan\", exist_ok=True)\n",
    "os.makedirs(\"./models\", exist_ok=True)\n",
    "\n",
    "params = {\n",
    "    \"n_epochs\" : 20,\n",
    "    \"batch_size\" : 64,\n",
    "    \"lr\" : 2e-4,\n",
    "    \"b1\" : 0.5,\n",
    "    \"b2\" : 0.999,\n",
    "    #\"n_cpu\" : 8,\n",
    "    \"n_classes\" : 10,\n",
    "    \"latent_dim\" : 100,\n",
    "    \"img_size\" : 32,\n",
    "    \"channels\" : 1,\n",
    "    \"sample_interval\" : 400,\n",
    "}\n",
    "\n",
    "img_shape = (params['channels'], params['img_size'], params['img_size'])"
   ]
  },
  {
   "cell_type": "markdown",
   "metadata": {},
   "source": [
    "# Dataset - MNIST"
   ]
  },
  {
   "cell_type": "code",
   "execution_count": 3,
   "metadata": {},
   "outputs": [
    {
     "name": "stdout",
     "output_type": "stream",
     "text": [
      "Downloading http://yann.lecun.com/exdb/mnist/train-images-idx3-ubyte.gz\n"
     ]
    },
    {
     "name": "stderr",
     "output_type": "stream",
     "text": [
      "3.3%"
     ]
    },
    {
     "name": "stdout",
     "output_type": "stream",
     "text": [
      "Downloading http://yann.lecun.com/exdb/mnist/train-images-idx3-ubyte.gz to ./data/mnist/MNIST/raw/train-images-idx3-ubyte.gz\n"
     ]
    },
    {
     "name": "stderr",
     "output_type": "stream",
     "text": [
      "100.0%\n"
     ]
    },
    {
     "name": "stdout",
     "output_type": "stream",
     "text": [
      "Extracting ./data/mnist/MNIST/raw/train-images-idx3-ubyte.gz to ./data/mnist/MNIST/raw\n",
      "\n",
      "Downloading http://yann.lecun.com/exdb/mnist/train-labels-idx1-ubyte.gz\n",
      "Downloading http://yann.lecun.com/exdb/mnist/train-labels-idx1-ubyte.gz to ./data/mnist/MNIST/raw/train-labels-idx1-ubyte.gz\n"
     ]
    },
    {
     "name": "stderr",
     "output_type": "stream",
     "text": [
      "100.0%\n",
      "6.0%"
     ]
    },
    {
     "name": "stdout",
     "output_type": "stream",
     "text": [
      "Extracting ./data/mnist/MNIST/raw/train-labels-idx1-ubyte.gz to ./data/mnist/MNIST/raw\n",
      "\n",
      "Downloading http://yann.lecun.com/exdb/mnist/t10k-images-idx3-ubyte.gz\n",
      "Downloading http://yann.lecun.com/exdb/mnist/t10k-images-idx3-ubyte.gz to ./data/mnist/MNIST/raw/t10k-images-idx3-ubyte.gz\n"
     ]
    },
    {
     "name": "stderr",
     "output_type": "stream",
     "text": [
      "100.0%\n"
     ]
    },
    {
     "name": "stdout",
     "output_type": "stream",
     "text": [
      "Extracting ./data/mnist/MNIST/raw/t10k-images-idx3-ubyte.gz to ./data/mnist/MNIST/raw\n",
      "\n",
      "Downloading http://yann.lecun.com/exdb/mnist/t10k-labels-idx1-ubyte.gz\n",
      "Downloading http://yann.lecun.com/exdb/mnist/t10k-labels-idx1-ubyte.gz to ./data/mnist/MNIST/raw/t10k-labels-idx1-ubyte.gz\n"
     ]
    },
    {
     "name": "stderr",
     "output_type": "stream",
     "text": [
      "100.0%"
     ]
    },
    {
     "name": "stdout",
     "output_type": "stream",
     "text": [
      "Extracting ./data/mnist/MNIST/raw/t10k-labels-idx1-ubyte.gz to ./data/mnist/MNIST/raw\n",
      "\n"
     ]
    },
    {
     "name": "stderr",
     "output_type": "stream",
     "text": [
      "\n"
     ]
    }
   ],
   "source": [
    "# Configure data loader\n",
    "os.makedirs(\"./data/mnist\", exist_ok=True)\n",
    "\n",
    "dataset = datasets.MNIST(\n",
    "            \"./data/mnist\",\n",
    "            train=True,\n",
    "            download=True,\n",
    "            transform=transforms.Compose(\n",
    "                [transforms.Resize(params['img_size']), transforms.ToTensor(), transforms.Normalize([0.5], [0.5])]\n",
    "            ),\n",
    "        )\n",
    "dataloader = DataLoader(\n",
    "    dataset,\n",
    "    batch_size=params['batch_size'],\n",
    "    shuffle=True,\n",
    ")\n",
    "\n",
    "testset = datasets.MNIST(\n",
    "            \"./data/mnist\",\n",
    "            train=False,\n",
    "            download=True,\n",
    "            transform=transforms.Compose(\n",
    "                [transforms.Resize(params['img_size']), transforms.ToTensor(), transforms.Normalize([0.5], [0.5])]\n",
    "            ),\n",
    "        )\n",
    "testloader = DataLoader(\n",
    "    testset,\n",
    "    batch_size=params['batch_size'],\n",
    "    shuffle=True,\n",
    ")"
   ]
  },
  {
   "cell_type": "markdown",
   "metadata": {},
   "source": [
    "# Generator & Discriminator"
   ]
  },
  {
   "cell_type": "code",
   "execution_count": 4,
   "metadata": {},
   "outputs": [],
   "source": [
    "class Generator(nn.Module):\n",
    "    def __init__(self):\n",
    "        super(Generator, self).__init__()\n",
    "\n",
    "        self.label_emb = nn.Embedding(params['n_classes'], params['n_classes'])\n",
    "\n",
    "        def block(in_feat, out_feat, normalize=True):\n",
    "            layers = [nn.Linear(in_feat, out_feat)]\n",
    "            if normalize:\n",
    "                layers.append(nn.BatchNorm1d(out_feat, 0.8))\n",
    "            layers.append(nn.LeakyReLU(0.2, inplace=True))\n",
    "            return layers\n",
    "\n",
    "        self.model = nn.Sequential(\n",
    "            *block(params['latent_dim'] + params['n_classes'], 128, normalize=False),\n",
    "            *block(128, 256),\n",
    "            *block(256, 512),\n",
    "            *block(512, 1024),\n",
    "            nn.Linear(1024, int(np.prod(img_shape))),\n",
    "            nn.Tanh()\n",
    "        )\n",
    "\n",
    "    def forward(self, noise, labels):\n",
    "        # Concatenate label embedding and image to produce input\n",
    "        gen_input = torch.cat((self.label_emb(labels), noise), -1)\n",
    "        img = self.model(gen_input)\n",
    "        img = img.view(img.size(0), *img_shape)\n",
    "        return img\n",
    "\n",
    "\n",
    "class Discriminator(nn.Module):\n",
    "    def __init__(self):\n",
    "        super(Discriminator, self).__init__()\n",
    "\n",
    "        self.label_embedding = nn.Embedding(params['n_classes'], params['n_classes'])\n",
    "\n",
    "        self.model = nn.Sequential(\n",
    "            nn.Linear(params['n_classes'] + int(np.prod(img_shape)), 512),\n",
    "            nn.LeakyReLU(0.2, inplace=True),\n",
    "            nn.Linear(512, 512),\n",
    "            nn.Dropout(0.4),\n",
    "            nn.LeakyReLU(0.2, inplace=True),\n",
    "            nn.Linear(512, 512),\n",
    "            nn.Dropout(0.4),\n",
    "            nn.LeakyReLU(0.2, inplace=True),\n",
    "            nn.Linear(512, 1),\n",
    "        )\n",
    "\n",
    "    def forward(self, img, labels):\n",
    "        # Concatenate label embedding and image to produce input\n",
    "        d_in = torch.cat((img.view(img.size(0), -1), self.label_embedding(labels)), -1)\n",
    "        validity = self.model(d_in)\n",
    "        return validity"
   ]
  },
  {
   "cell_type": "markdown",
   "metadata": {},
   "source": [
    "# Training"
   ]
  },
  {
   "cell_type": "code",
   "execution_count": 5,
   "metadata": {},
   "outputs": [],
   "source": [
    "# Loss functions\n",
    "adversarial_loss = torch.nn.MSELoss()\n",
    "\n",
    "# Initialize generator and discriminator\n",
    "generator = Generator()\n",
    "discriminator = Discriminator()\n",
    "#adversarial_loss.to(device)\n",
    "\n",
    "generator.to(device)\n",
    "discriminator.to(device)\n",
    "\n",
    "# Optimizers\n",
    "optimizer_G = torch.optim.Adam(generator.parameters(), lr=params['lr'], betas=(params['b1'], params['b2']))\n",
    "optimizer_D = torch.optim.Adam(discriminator.parameters(), lr=params['lr'], betas=(params['b1'], params['b2']))"
   ]
  },
  {
   "cell_type": "code",
   "execution_count": 6,
   "metadata": {},
   "outputs": [
    {
     "name": "stdout",
     "output_type": "stream",
     "text": [
      "[Epoch 1/20] [D loss: 0.057795] [G loss: 0.732554]\n",
      "[Epoch 2/20] [D loss: 0.096251] [G loss: 0.574727]\n",
      "[Epoch 3/20] [D loss: 0.104178] [G loss: 0.689314]\n",
      "[Epoch 4/20] [D loss: 0.127857] [G loss: 0.611116]\n",
      "[Epoch 5/20] [D loss: 0.105671] [G loss: 0.554928]\n",
      "[Epoch 6/20] [D loss: 0.201496] [G loss: 0.829118]\n",
      "[Epoch 7/20] [D loss: 0.164122] [G loss: 0.404854]\n",
      "[Epoch 8/20] [D loss: 0.160374] [G loss: 0.511463]\n",
      "[Epoch 9/20] [D loss: 0.207812] [G loss: 0.363338]\n",
      "[Epoch 10/20] [D loss: 0.178636] [G loss: 0.469659]\n",
      "[Epoch 11/20] [D loss: 0.213581] [G loss: 0.429160]\n",
      "[Epoch 12/20] [D loss: 0.229973] [G loss: 0.274362]\n",
      "[Epoch 13/20] [D loss: 0.196420] [G loss: 0.469212]\n",
      "[Epoch 14/20] [D loss: 0.227816] [G loss: 0.422976]\n",
      "[Epoch 15/20] [D loss: 0.224761] [G loss: 0.309915]\n",
      "[Epoch 16/20] [D loss: 0.205087] [G loss: 0.404041]\n",
      "[Epoch 17/20] [D loss: 0.208525] [G loss: 0.335747]\n",
      "[Epoch 18/20] [D loss: 0.215293] [G loss: 0.391546]\n",
      "[Epoch 19/20] [D loss: 0.244499] [G loss: 0.354013]\n",
      "[Epoch 20/20] [D loss: 0.183749] [G loss: 0.300741]\n"
     ]
    }
   ],
   "source": [
    "def sample_image(n_row, batches_done):\n",
    "    \"\"\"Saves a grid of generated digits ranging from 0 to n_classes\"\"\"\n",
    "    # Sample noise\n",
    "    z = Variable(FloatTensor(np.random.normal(0, 1, (n_row ** 2, params['latent_dim'])))).to(device)\n",
    "    # Get labels ranging from 0 to n_classes for n rows\n",
    "    labels = np.array([num for _ in range(n_row) for num in range(n_row)])\n",
    "    labels = Variable(LongTensor(labels)).to(device)\n",
    "    gen_imgs = generator(z, labels)\n",
    "    save_image(gen_imgs.data, \"./images/cgan/%d.png\" % batches_done, nrow=n_row, normalize=True)\n",
    "\n",
    "# ----------\n",
    "#  Training\n",
    "# ----------\n",
    "\n",
    "for epoch in range(params['n_epochs']):\n",
    "    for i, (imgs, labels) in enumerate(dataloader):\n",
    "\n",
    "        batch_size = imgs.shape[0]\n",
    "\n",
    "        # Adversarial ground truths\n",
    "        valid = Variable(FloatTensor(batch_size, 1).fill_(1.0), requires_grad=False).to(device)\n",
    "        fake = Variable(FloatTensor(batch_size, 1).fill_(0.0), requires_grad=False).to(device)\n",
    "\n",
    "        # Configure input\n",
    "        real_imgs = Variable(imgs.type(FloatTensor)).to(device)\n",
    "        labels = Variable(labels.type(LongTensor)).to(device)\n",
    "\n",
    "        # -----------------\n",
    "        #  Train Generator\n",
    "        # -----------------\n",
    "\n",
    "        optimizer_G.zero_grad()\n",
    "\n",
    "        # Sample noise and labels as generator input\n",
    "        z = Variable(FloatTensor(np.random.normal(0, 1, (batch_size, params['latent_dim'])))).to(device)\n",
    "        gen_labels = Variable(LongTensor(np.random.randint(0, params['n_classes'], batch_size))).to(device)\n",
    "\n",
    "        # Generate a batch of images\n",
    "        gen_imgs = generator(z, gen_labels)\n",
    "\n",
    "        # Loss measures generator's ability to fool the discriminator\n",
    "        validity = discriminator(gen_imgs, gen_labels)\n",
    "        g_loss = adversarial_loss(validity, valid)\n",
    "\n",
    "        g_loss.backward()\n",
    "        optimizer_G.step()\n",
    "\n",
    "        # ---------------------\n",
    "        #  Train Discriminator\n",
    "        # ---------------------\n",
    "\n",
    "        optimizer_D.zero_grad()\n",
    "\n",
    "        # Loss for real images\n",
    "        validity_real = discriminator(real_imgs, labels)\n",
    "        d_real_loss = adversarial_loss(validity_real, valid)\n",
    "\n",
    "        # Loss for fake images\n",
    "        validity_fake = discriminator(gen_imgs.detach(), gen_labels)\n",
    "        d_fake_loss = adversarial_loss(validity_fake, fake)\n",
    "\n",
    "        # Total discriminator loss\n",
    "        d_loss = (d_real_loss + d_fake_loss) / 2\n",
    "\n",
    "        d_loss.backward()\n",
    "        optimizer_D.step()\n",
    "\n",
    "        batches_done = epoch * len(dataloader) + i\n",
    "        if batches_done % params['sample_interval'] == 0:\n",
    "            sample_image(n_row=10, batches_done=batches_done)\n",
    "\n",
    "    print(\n",
    "        \"[Epoch %d/%d] [D loss: %f] [G loss: %f]\"\n",
    "        % (epoch+1, params['n_epochs'], d_loss.item(), g_loss.item())\n",
    "    )\n",
    "\n",
    "torch.save({\n",
    "    'gen' : generator.state_dict(),\n",
    "    'disc' : discriminator.state_dict(),\n",
    "}, './models/cgan.pth')"
   ]
  },
  {
   "cell_type": "markdown",
   "metadata": {},
   "source": [
    "# Evaluation"
   ]
  },
  {
   "cell_type": "markdown",
   "metadata": {},
   "source": [
    "### Inception Score"
   ]
  },
  {
   "cell_type": "code",
   "execution_count": 7,
   "metadata": {},
   "outputs": [],
   "source": [
    "class LeNet(nn.Module):\n",
    "    def __init__(self):\n",
    "        super(LeNet, self).__init__()\n",
    "        # Layer 1: Convolutional. Input = 32x32x1. Output = 28x28x6.\n",
    "        self.conv1 = nn.Conv2d(1, 6, (5,5))\n",
    "        # Layer 2: Convolutional. Output = 10x10x16.\n",
    "        self.conv2 = nn.Conv2d(6, 16, (5,5))\n",
    "        # Layer 3: Fully Connected. Input = 400. Output = 120.\n",
    "        self.fc1   = nn.Linear(400, 120)\n",
    "        # Layer 4: Fully Connected. Input = 120. Output = 84.\n",
    "        self.fc2   = nn.Linear(120, 84)\n",
    "        # Layer 5: Fully Connected. Input = 84. Output = 10.\n",
    "        self.fc3   = nn.Linear(84, 10)\n",
    "    def forward(self, x):\n",
    "        # Activation. # Pooling. Input = 28x28x6. Output = 14x14x6.\n",
    "        x = F.max_pool2d(F.relu(self.conv1(x)), (2,2))\n",
    "         # Activation. # Pooling. Input = 10x10x16. Output = 5x5x16.\n",
    "        x = F.max_pool2d(F.relu(self.conv2(x)), (2,2))\n",
    "        # Flatten. Input = 5x5x16. Output = 400.\n",
    "        x = x.flatten(start_dim=1)\n",
    "        # Activation.\n",
    "        x = F.relu(self.fc1(x))\n",
    "        # Activation.\n",
    "        x = F.relu(self.fc2(x))\n",
    "        x = self.fc3(x)\n",
    "        return x\n",
    "    def num_flat_features(self, x):\n",
    "        size = x.size()[1:]\n",
    "        num_features = 1\n",
    "        for s in size:\n",
    "            num_features *= s\n",
    "        return num_features \n",
    "\n",
    "# Train & test part from https://github.com/activatedgeek/LeNet-5\n",
    "def train(epoch):\n",
    "    global cur_batch_win\n",
    "    net.train()\n",
    "    loss_list, batch_list = [], []\n",
    "    for i, (images, labels) in enumerate(dataloader):\n",
    "        optimizer.zero_grad()\n",
    "        output = net(images.to(device))\n",
    "        loss = criterion(output, labels.to(device))\n",
    "\n",
    "        loss_list.append(loss.detach().cpu().item())\n",
    "        batch_list.append(i+1)\n",
    "\n",
    "        #if i % 10 == 0:\n",
    "        #    print('Train - Epoch %d, Batch: %d, Loss: %f' % (epoch, i, loss.detach().cpu().item()))\n",
    "\n",
    "        loss.backward()\n",
    "        optimizer.step()\n",
    "\n",
    "def evaluate(target_loader, target_dataset):\n",
    "    predictions = []\n",
    "    net.eval()\n",
    "    total_correct = 0\n",
    "    avg_loss = 0.0\n",
    "    for i, (images, labels) in enumerate(target_loader):\n",
    "        output = net(images.to(device))\n",
    "        avg_loss += criterion(output, labels.to(device)).sum()\n",
    "        pred = output.detach().max(1)[1]\n",
    "        total_correct += pred.eq(labels.to(device).view_as(pred)).sum()\n",
    "        predictions.append(pred)\n",
    "\n",
    "    avg_loss /= len(target_dataset)\n",
    "    avg_loss = avg_loss.detach().cpu().item()\n",
    "    accuracy    = float(total_correct) / len(target_dataset)\n",
    "    print('Test Avg. Loss: %f, Accuracy: %f' % (avg_loss, accuracy))\n",
    "    #return accuracy, np.array(torch.cat(predictions))\n",
    "    return accuracy, avg_loss"
   ]
  },
  {
   "cell_type": "code",
   "execution_count": 8,
   "metadata": {},
   "outputs": [
    {
     "name": "stdout",
     "output_type": "stream",
     "text": [
      "Training...\n",
      "Epoch : 1\n",
      "Test Avg. Loss: 0.035991, Accuracy: 0.142000\n",
      "Epoch : 2\n",
      "Test Avg. Loss: 0.035703, Accuracy: 0.247100\n",
      "Epoch : 3\n",
      "Test Avg. Loss: 0.035052, Accuracy: 0.434200\n",
      "Epoch : 4\n",
      "Test Avg. Loss: 0.032811, Accuracy: 0.628800\n",
      "Epoch : 5\n",
      "Test Avg. Loss: 0.021031, Accuracy: 0.680200\n",
      "Epoch : 6\n",
      "Test Avg. Loss: 0.010173, Accuracy: 0.826600\n",
      "Epoch : 7\n",
      "Test Avg. Loss: 0.007486, Accuracy: 0.859400\n",
      "Epoch : 8\n",
      "Test Avg. Loss: 0.006221, Accuracy: 0.884200\n",
      "Epoch : 9\n",
      "Test Avg. Loss: 0.005451, Accuracy: 0.901700\n",
      "Epoch : 10\n",
      "Test Avg. Loss: 0.004848, Accuracy: 0.912700\n",
      "Epoch : 11\n",
      "Test Avg. Loss: 0.004525, Accuracy: 0.919200\n",
      "Epoch : 12\n",
      "Test Avg. Loss: 0.004077, Accuracy: 0.925500\n",
      "Epoch : 13\n",
      "Test Avg. Loss: 0.003727, Accuracy: 0.930900\n",
      "Epoch : 14\n",
      "Test Avg. Loss: 0.003453, Accuracy: 0.936700\n",
      "Epoch : 15\n",
      "Test Avg. Loss: 0.003194, Accuracy: 0.938900\n",
      "Epoch : 16\n",
      "Test Avg. Loss: 0.002955, Accuracy: 0.942400\n",
      "Epoch : 17\n",
      "Test Avg. Loss: 0.002784, Accuracy: 0.948000\n",
      "Epoch : 18\n",
      "Test Avg. Loss: 0.002636, Accuracy: 0.949400\n",
      "Epoch : 19\n",
      "Test Avg. Loss: 0.002505, Accuracy: 0.950500\n",
      "Epoch : 20\n",
      "Test Avg. Loss: 0.002339, Accuracy: 0.955600\n"
     ]
    }
   ],
   "source": [
    "net = LeNet()\n",
    "criterion = nn.CrossEntropyLoss()\n",
    "#optimizer = optim.Adam(net.parameters(), lr=0.001)\n",
    "optimizer = optim.SGD(net.parameters(), lr=0.001)\n",
    "net.to(device)\n",
    "\n",
    "EPOCHS = 20\n",
    "print(\"Training...\")\n",
    "val_acc_list = []\n",
    "val_loss_list = []\n",
    "\n",
    "for e in range(EPOCHS):\n",
    "    print(\"Epoch : {}\".format(e+1))\n",
    "    train(e)\n",
    "    test_acc, test_loss = evaluate(testloader, testset)\n",
    "\n",
    "torch.save({\n",
    "    'cnn' : net.state_dict()\n",
    "    }, 'models/cgan_cnn.pth')\n",
    "\n",
    "#test_acc, test_loss = evaluate(testloader, testset)"
   ]
  },
  {
   "cell_type": "code",
   "execution_count": 9,
   "metadata": {},
   "outputs": [
    {
     "data": {
      "text/plain": [
       "LeNet(\n",
       "  (conv1): Conv2d(1, 6, kernel_size=(5, 5), stride=(1, 1))\n",
       "  (conv2): Conv2d(6, 16, kernel_size=(5, 5), stride=(1, 1))\n",
       "  (fc1): Linear(in_features=400, out_features=120, bias=True)\n",
       "  (fc2): Linear(in_features=120, out_features=84, bias=True)\n",
       "  (fc3): Linear(in_features=84, out_features=10, bias=True)\n",
       ")"
      ]
     },
     "execution_count": 9,
     "metadata": {},
     "output_type": "execute_result"
    }
   ],
   "source": [
    "#loading models from file\n",
    "generator = Generator()\n",
    "discriminator = Discriminator()\n",
    "net = LeNet()\n",
    "\n",
    "chk = torch.load('./models/cgan.pth')\n",
    "chk_cnn = torch.load('./models/cgan_cnn.pth')\n",
    "generator.load_state_dict(chk['gen'])\n",
    "discriminator.load_state_dict(chk['disc'])\n",
    "net.load_state_dict(chk_cnn['cnn'])\n",
    "\n",
    "generator.to(device)\n",
    "discriminator.to(device)\n",
    "net.to(device)"
   ]
  },
  {
   "cell_type": "code",
   "execution_count": 10,
   "metadata": {},
   "outputs": [
    {
     "name": "stdout",
     "output_type": "stream",
     "text": [
      "Inception Score : 7.966749668121338\n"
     ]
    }
   ],
   "source": [
    "def inception_score(r):\n",
    "    p_y = np.mean(r, axis=0)\n",
    "    e = r/p_y\n",
    "    e = r*np.log(e, where= e>0)\n",
    "    e = np.sum(e, axis=1)\n",
    "    e = np.mean(e, axis=0)\n",
    "    return np.exp(e)\n",
    "\n",
    "# Generated Data for IS evaluation : 1,000 total\n",
    "test_size = 1000\n",
    "\n",
    "# Generate a batch of images\n",
    "z = Variable(FloatTensor(np.random.normal(0, 1, (test_size, params['latent_dim'])))).to(device)\n",
    "gen_labels = Variable(LongTensor(np.random.randint(0, params['n_classes'], test_size))).to(device)\n",
    "gen_imgs = generator(z, gen_labels)\n",
    "\n",
    "# Obtain Predictions (w/ softmax)\n",
    "preds = F.softmax(net(gen_imgs),dim=1)\n",
    "r = preds.cpu().detach().numpy()\n",
    "\n",
    "i_score = inception_score(r)\n",
    "print(\"Inception Score : {}\".format(i_score))"
   ]
  },
  {
   "cell_type": "markdown",
   "metadata": {},
   "source": [
    "### TARR\n",
    "- Use label (i) to generate image w/ CGAN -> (i) becomes ground-truth\n",
    "- Compare Prediction Accuracy"
   ]
  },
  {
   "cell_type": "code",
   "execution_count": 11,
   "metadata": {},
   "outputs": [],
   "source": [
    "class TestDataset(Dataset):\n",
    "    def __init__(self, x_data, y_data):\n",
    "        self.x_data = x_data\n",
    "        self.y_data = y_data\n",
    "        self.len = self.y_data.shape[0]\n",
    "\n",
    "    def __getitem__(self, index):\n",
    "        return self.x_data[index], self.y_data[index]\n",
    "\n",
    "    def __len__(self):\n",
    "        return self.len"
   ]
  },
  {
   "cell_type": "code",
   "execution_count": 15,
   "metadata": {},
   "outputs": [
    {
     "name": "stdout",
     "output_type": "stream",
     "text": [
      "Test Avg. Loss: 0.138386, Accuracy: 0.100400\n"
     ]
    }
   ],
   "source": [
    "# Generated Data for IS evaluation : 10,000 total, 1000 of each class\n",
    "test_size = 1000\n",
    "criterion = nn.CrossEntropyLoss()\n",
    "test_labels = torch.arange(0, params['n_classes']).repeat(test_size)\n",
    "\n",
    "# Generate a batch of images\n",
    "z = Variable(FloatTensor(np.random.normal(0, 1, (test_size*params['n_classes'], params['latent_dim'])))).to(device)\n",
    "gen_labels = Variable(LongTensor(test_labels).to(device))\n",
    "gen_imgs = generator(z, gen_labels)\n",
    "\n",
    "gen_dataset = TestDataset(gen_imgs, gen_labels)\n",
    "gen_loader = DataLoader(gen_dataset, batch_size=params['batch_size'], shuffle=True)\n",
    "\n",
    "acc = evaluate(gen_loader, gen_dataset)"
   ]
  }
 ],
 "metadata": {
  "kernelspec": {
   "display_name": "Python 3.9.15 ('cs492_cw2')",
   "language": "python",
   "name": "python3"
  },
  "language_info": {
   "codemirror_mode": {
    "name": "ipython",
    "version": 3
   },
   "file_extension": ".py",
   "mimetype": "text/x-python",
   "name": "python",
   "nbconvert_exporter": "python",
   "pygments_lexer": "ipython3",
   "version": "3.9.15"
  },
  "orig_nbformat": 4,
  "vscode": {
   "interpreter": {
    "hash": "639b769f08db0018c0779f3b8693e13fde466794d9285766d7f04c5a09986b6c"
   }
  }
 },
 "nbformat": 4,
 "nbformat_minor": 2
}
