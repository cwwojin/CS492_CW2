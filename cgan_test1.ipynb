{
 "cells": [
  {
   "cell_type": "markdown",
   "metadata": {},
   "source": [
    "# CGAN"
   ]
  },
  {
   "cell_type": "markdown",
   "metadata": {},
   "source": [
    "### Imports"
   ]
  },
  {
   "cell_type": "code",
   "execution_count": 1,
   "metadata": {},
   "outputs": [
    {
     "name": "stdout",
     "output_type": "stream",
     "text": [
      "cuda\n"
     ]
    }
   ],
   "source": [
    "import os\n",
    "import numpy as np\n",
    "import torchvision.transforms as transforms\n",
    "from torchvision.utils import save_image\n",
    "from torch.utils.data import Dataset, DataLoader\n",
    "from torchvision import datasets\n",
    "from torch.autograd import Variable\n",
    "import torch.nn as nn\n",
    "import torch.nn.functional as F\n",
    "import torch\n",
    "import torch.optim as optim\n",
    "from tqdm.notebook import tqdm\n",
    "\n",
    "FloatTensor = torch.FloatTensor\n",
    "LongTensor = torch.LongTensor\n",
    "\n",
    "if torch.cuda.is_available():\n",
    "    device = torch.device(\"cuda\")\n",
    "else:\n",
    "    device = torch.device(\"cpu\")\n",
    "\n",
    "print(device)"
   ]
  },
  {
   "cell_type": "markdown",
   "metadata": {},
   "source": [
    "### Parameters"
   ]
  },
  {
   "cell_type": "code",
   "execution_count": 2,
   "metadata": {},
   "outputs": [],
   "source": [
    "os.makedirs(\"./images/cgan\", exist_ok=True)\n",
    "os.makedirs(\"./models\", exist_ok=True)\n",
    "\n",
    "params = {\n",
    "    #Fixed\n",
    "    \"n_epochs\" : 100,\n",
    "    \"batch_size\" : 64,\n",
    "    \"lr\" : 2e-4,\n",
    "    \"b1\" : 0.5,\n",
    "    \"b2\" : 0.999,\n",
    "\n",
    "    #Block Config\n",
    "    \"g_block\" : [128,256,512,1024],           #[128,256,512,1024],     #[64,128,256,512],\n",
    "    \"d_block\" : [512,512,512],             #[512,512,512],          #[256,256,256],\n",
    "    \"n_classes\" : 10,\n",
    "    \"latent_dim\" : 100,\n",
    "\n",
    "    #Fixed\n",
    "    \"img_size\" : 32,\n",
    "    \"channels\" : 1,\n",
    "    \"sample_interval\" : 1,\n",
    "\n",
    "    #LeNet Epochs - Strong/Weak classifiers\n",
    "    \"cnn_epochs\" : 20,\n",
    "    \"cnn_epochs_w\" : 8,\n",
    "\n",
    "    #Label-smoothing\n",
    "    \"P_target\" : 1.0,\n",
    "    \"N_target\" : 0.0,\n",
    "\n",
    "    #Virtual Batch Normalization\n",
    "    \"VB_norm\" : False,\n",
    "\n",
    "    #Loss / Non-saturating cost\n",
    "    \"loss\" : \"bce\",                 #{\"mse\",\"bce\",\"bce_ns\"}\n",
    "\n",
    "    #Checkpoint\n",
    "    \"load_chk\" : False,\n",
    "    \"load_chk_cnn\" : True,\n",
    "}\n",
    "\n",
    "img_shape = (params['channels'], params['img_size'], params['img_size'])"
   ]
  },
  {
   "cell_type": "markdown",
   "metadata": {},
   "source": [
    "### Dataset - MNIST"
   ]
  },
  {
   "cell_type": "code",
   "execution_count": 3,
   "metadata": {},
   "outputs": [],
   "source": [
    "# Configure data loader\n",
    "os.makedirs(\"./data/mnist\", exist_ok=True)\n",
    "\n",
    "dataset = datasets.MNIST(\n",
    "            \"./data/mnist\",\n",
    "            train=True,\n",
    "            download=True,\n",
    "            transform=transforms.Compose(\n",
    "                [transforms.Resize(params['img_size']), transforms.ToTensor(), transforms.Normalize([0.5], [0.5])]\n",
    "            ),\n",
    "        )\n",
    "dataloader = DataLoader(\n",
    "    dataset,\n",
    "    batch_size=params['batch_size'],\n",
    "    shuffle=True,\n",
    ")\n",
    "\n",
    "testset = datasets.MNIST(\n",
    "            \"./data/mnist\",\n",
    "            train=False,\n",
    "            download=True,\n",
    "            transform=transforms.Compose(\n",
    "                [transforms.Resize(params['img_size']), transforms.ToTensor(), transforms.Normalize([0.5], [0.5])]\n",
    "            ),\n",
    "        )\n",
    "testloader = DataLoader(\n",
    "    testset,\n",
    "    batch_size=params['batch_size'],\n",
    "    shuffle=True,\n",
    ")"
   ]
  },
  {
   "cell_type": "markdown",
   "metadata": {},
   "source": [
    "# Generator & Discriminator"
   ]
  },
  {
   "cell_type": "markdown",
   "metadata": {},
   "source": [
    "### Model"
   ]
  },
  {
   "cell_type": "code",
   "execution_count": 4,
   "metadata": {},
   "outputs": [],
   "source": [
    "class Generator(nn.Module):\n",
    "    def __init__(self):\n",
    "        super(Generator, self).__init__()\n",
    "\n",
    "        self.label_emb = nn.Embedding(params['n_classes'], params['n_classes'])\n",
    "\n",
    "        def block(in_feat, out_feat, normalize=True):\n",
    "            layers = [nn.Linear(in_feat, out_feat)]\n",
    "            if normalize:\n",
    "                layers.append(nn.BatchNorm1d(out_feat, 0.8))\n",
    "            layers.append(nn.LeakyReLU(0.2, inplace=True))\n",
    "            return layers\n",
    "\n",
    "        self.model = nn.Sequential(\n",
    "            *block(params['latent_dim'] + params['n_classes'], params['g_block'][0], normalize=False),\n",
    "            *block(params['g_block'][0], params['g_block'][1]),\n",
    "            *block(params['g_block'][1], params['g_block'][2]),\n",
    "            *block(params['g_block'][2], params['g_block'][3]),\n",
    "            nn.Linear(params['g_block'][3], int(np.prod(img_shape))),\n",
    "            nn.Tanh()\n",
    "        )\n",
    "\n",
    "    def forward(self, noise, labels):\n",
    "        # Concatenate label embedding and image to produce input\n",
    "        gen_input = torch.cat((self.label_emb(labels), noise), -1)\n",
    "        img = self.model(gen_input)\n",
    "        img = img.view(img.size(0), *img_shape)\n",
    "        return img\n",
    "\n",
    "\n",
    "class Discriminator(nn.Module):\n",
    "    def __init__(self):\n",
    "        super(Discriminator, self).__init__()\n",
    "\n",
    "        self.label_embedding = nn.Embedding(params['n_classes'], params['n_classes'])\n",
    "\n",
    "        self.model = nn.Sequential(\n",
    "            nn.Linear(params['n_classes'] + int(np.prod(img_shape)), params['d_block'][0]),\n",
    "            nn.LeakyReLU(0.2, inplace=True),\n",
    "            nn.Linear(params['d_block'][0], params['d_block'][1]),\n",
    "            nn.Dropout(0.4),\n",
    "            nn.LeakyReLU(0.2, inplace=True),\n",
    "            nn.Linear(params['d_block'][1], params['d_block'][2]),\n",
    "            nn.Dropout(0.4),\n",
    "            nn.LeakyReLU(0.2, inplace=True),\n",
    "            nn.Linear(params['d_block'][2], 1),\n",
    "            nn.Sigmoid(),\n",
    "        )\n",
    "\n",
    "    def forward(self, img, labels):\n",
    "        # Concatenate label embedding and image to produce input\n",
    "        d_in = torch.cat((img.view(img.size(0), -1), self.label_embedding(labels)), -1)\n",
    "        validity = self.model(d_in)\n",
    "        return validity"
   ]
  },
  {
   "cell_type": "markdown",
   "metadata": {},
   "source": [
    "### Loss Functions"
   ]
  },
  {
   "cell_type": "code",
   "execution_count": 5,
   "metadata": {},
   "outputs": [],
   "source": [
    "# ylog(x) + (1-y)log(1-x)\n",
    "\n",
    "#Non-Saturating\n",
    "# (g, valid) -> - (1*log(x) + 0) -> minimize -log(D(G(z,l)))\n",
    "\n",
    "#Saturating\n",
    "# (g, fake) -> - (0*log(x) + 1*log(1-x)) -> minimize -log(1-D(G(z,l)))\n"
   ]
  },
  {
   "cell_type": "markdown",
   "metadata": {},
   "source": [
    "### Training"
   ]
  },
  {
   "cell_type": "code",
   "execution_count": 6,
   "metadata": {},
   "outputs": [
    {
     "data": {
      "application/vnd.jupyter.widget-view+json": {
       "model_id": "f34332c9b3824c738e47f73ddf718202",
       "version_major": 2,
       "version_minor": 0
      },
      "text/plain": [
       "  0%|          | 0/100 [00:00<?, ?it/s]"
      ]
     },
     "metadata": {},
     "output_type": "display_data"
    },
    {
     "name": "stdout",
     "output_type": "stream",
     "text": [
      "[Epoch 1/100] [D loss: 0.282644] [G loss: -0.106075]\n",
      "[Epoch 2/100] [D loss: 0.116749] [G loss: -0.131931]\n",
      "[Epoch 3/100] [D loss: 0.428414] [G loss: -0.165947]\n",
      "[Epoch 4/100] [D loss: 0.390265] [G loss: -0.577370]\n",
      "[Epoch 5/100] [D loss: 0.461502] [G loss: -0.599612]\n",
      "[Epoch 6/100] [D loss: 0.588369] [G loss: -0.330175]\n",
      "[Epoch 7/100] [D loss: 0.536100] [G loss: -0.544271]\n",
      "[Epoch 8/100] [D loss: 0.636285] [G loss: -0.273628]\n",
      "[Epoch 9/100] [D loss: 0.605282] [G loss: -0.589751]\n",
      "[Epoch 10/100] [D loss: 0.628891] [G loss: -0.638107]\n",
      "[Epoch 11/100] [D loss: 0.864537] [G loss: -1.250584]\n",
      "[Epoch 12/100] [D loss: 0.669021] [G loss: -0.570465]\n",
      "[Epoch 13/100] [D loss: 0.727082] [G loss: -1.118824]\n",
      "[Epoch 14/100] [D loss: 0.536080] [G loss: -0.604130]\n",
      "[Epoch 15/100] [D loss: 0.591440] [G loss: -0.601137]\n",
      "[Epoch 16/100] [D loss: 0.623524] [G loss: -0.524294]\n",
      "[Epoch 17/100] [D loss: 0.536547] [G loss: -0.685055]\n",
      "[Epoch 18/100] [D loss: 0.617415] [G loss: -0.531380]\n",
      "[Epoch 19/100] [D loss: 0.568477] [G loss: -0.508107]\n",
      "[Epoch 20/100] [D loss: 0.672036] [G loss: -0.449461]\n",
      "[Epoch 21/100] [D loss: 0.709991] [G loss: -0.698571]\n",
      "[Epoch 22/100] [D loss: 0.547619] [G loss: -0.698917]\n",
      "[Epoch 23/100] [D loss: 0.645855] [G loss: -1.116226]\n",
      "[Epoch 24/100] [D loss: 0.690678] [G loss: -0.752220]\n",
      "[Epoch 25/100] [D loss: 0.536580] [G loss: -0.542278]\n",
      "[Epoch 26/100] [D loss: 0.621605] [G loss: -0.872630]\n",
      "[Epoch 27/100] [D loss: 0.583891] [G loss: -0.691934]\n",
      "[Epoch 28/100] [D loss: 0.624458] [G loss: -0.566520]\n",
      "[Epoch 29/100] [D loss: 0.527308] [G loss: -0.501761]\n",
      "[Epoch 30/100] [D loss: 0.563244] [G loss: -0.460873]\n",
      "[Epoch 31/100] [D loss: 0.570112] [G loss: -0.596433]\n",
      "[Epoch 32/100] [D loss: 0.529771] [G loss: -0.528920]\n",
      "[Epoch 33/100] [D loss: 0.518619] [G loss: -0.564950]\n",
      "[Epoch 34/100] [D loss: 0.493234] [G loss: -0.359168]\n",
      "[Epoch 35/100] [D loss: 0.797407] [G loss: -0.109993]\n",
      "[Epoch 36/100] [D loss: 0.555656] [G loss: -0.408450]\n",
      "[Epoch 37/100] [D loss: 0.501562] [G loss: -0.339013]\n",
      "[Epoch 38/100] [D loss: 0.399079] [G loss: -0.574510]\n",
      "[Epoch 39/100] [D loss: 0.582076] [G loss: -0.200763]\n",
      "[Epoch 40/100] [D loss: 0.475253] [G loss: -0.361268]\n",
      "[Epoch 41/100] [D loss: 0.461056] [G loss: -0.512554]\n",
      "[Epoch 42/100] [D loss: 0.751202] [G loss: -1.275553]\n",
      "[Epoch 43/100] [D loss: 0.422927] [G loss: -0.437053]\n",
      "[Epoch 44/100] [D loss: 0.557771] [G loss: -0.137539]\n",
      "[Epoch 45/100] [D loss: 0.458879] [G loss: -0.075841]\n",
      "[Epoch 46/100] [D loss: 0.406479] [G loss: -0.271243]\n",
      "[Epoch 47/100] [D loss: 0.392979] [G loss: -0.278540]\n",
      "[Epoch 48/100] [D loss: 0.469225] [G loss: -0.175290]\n",
      "[Epoch 49/100] [D loss: 0.523342] [G loss: -0.989559]\n",
      "[Epoch 50/100] [D loss: 0.434187] [G loss: -0.137023]\n",
      "[Epoch 51/100] [D loss: 0.425778] [G loss: -0.312015]\n",
      "[Epoch 52/100] [D loss: 0.406442] [G loss: -0.563105]\n",
      "[Epoch 53/100] [D loss: 0.738578] [G loss: -1.230809]\n",
      "[Epoch 54/100] [D loss: 0.635905] [G loss: -0.627262]\n",
      "[Epoch 55/100] [D loss: 0.683297] [G loss: -0.680914]\n",
      "[Epoch 56/100] [D loss: 0.668651] [G loss: -0.672772]\n",
      "[Epoch 57/100] [D loss: 0.553925] [G loss: -0.395336]\n",
      "[Epoch 58/100] [D loss: 0.442396] [G loss: -0.283020]\n",
      "[Epoch 59/100] [D loss: 0.652331] [G loss: -0.694762]\n",
      "[Epoch 60/100] [D loss: 0.610637] [G loss: -0.606092]\n",
      "[Epoch 61/100] [D loss: 0.691760] [G loss: -0.657200]\n",
      "[Epoch 62/100] [D loss: 0.650620] [G loss: -0.710866]\n",
      "[Epoch 63/100] [D loss: 0.689945] [G loss: -0.922168]\n",
      "[Epoch 64/100] [D loss: 0.725242] [G loss: -1.043327]\n",
      "[Epoch 65/100] [D loss: 0.691164] [G loss: -0.762774]\n",
      "[Epoch 66/100] [D loss: 0.687740] [G loss: -0.702242]\n",
      "[Epoch 67/100] [D loss: 0.709814] [G loss: -0.676541]\n",
      "[Epoch 68/100] [D loss: 0.669279] [G loss: -0.639691]\n",
      "[Epoch 69/100] [D loss: 0.558386] [G loss: -0.279752]\n",
      "[Epoch 70/100] [D loss: 0.586831] [G loss: -0.627712]\n",
      "[Epoch 71/100] [D loss: 0.656544] [G loss: -0.668835]\n",
      "[Epoch 72/100] [D loss: 0.653681] [G loss: -0.673293]\n",
      "[Epoch 73/100] [D loss: 0.629412] [G loss: -0.516696]\n",
      "[Epoch 74/100] [D loss: 0.682556] [G loss: -0.677926]\n",
      "[Epoch 75/100] [D loss: 0.654876] [G loss: -0.874887]\n",
      "[Epoch 76/100] [D loss: 0.595720] [G loss: -0.498476]\n",
      "[Epoch 77/100] [D loss: 0.692714] [G loss: -0.676827]\n",
      "[Epoch 78/100] [D loss: 0.702196] [G loss: -0.760224]\n",
      "[Epoch 79/100] [D loss: 0.620811] [G loss: -0.793415]\n",
      "[Epoch 80/100] [D loss: 0.725384] [G loss: -1.099530]\n",
      "[Epoch 81/100] [D loss: 0.673609] [G loss: -0.664829]\n",
      "[Epoch 82/100] [D loss: 0.697348] [G loss: -0.749704]\n",
      "[Epoch 83/100] [D loss: 0.682419] [G loss: -0.670981]\n",
      "[Epoch 84/100] [D loss: 0.691604] [G loss: -0.689246]\n",
      "[Epoch 85/100] [D loss: 0.607847] [G loss: -0.375016]\n",
      "[Epoch 86/100] [D loss: 0.702716] [G loss: -0.667947]\n",
      "[Epoch 87/100] [D loss: 0.691628] [G loss: -0.676533]\n",
      "[Epoch 88/100] [D loss: 0.685306] [G loss: -0.656801]\n",
      "[Epoch 89/100] [D loss: 0.634832] [G loss: -0.655338]\n",
      "[Epoch 90/100] [D loss: 0.558164] [G loss: -0.328058]\n",
      "[Epoch 91/100] [D loss: 0.649212] [G loss: -0.717546]\n",
      "[Epoch 92/100] [D loss: 0.482751] [G loss: -0.357577]\n",
      "[Epoch 93/100] [D loss: 0.660899] [G loss: -0.679967]\n",
      "[Epoch 94/100] [D loss: 0.667067] [G loss: -0.710539]\n",
      "[Epoch 95/100] [D loss: 0.751190] [G loss: -1.113258]\n",
      "[Epoch 96/100] [D loss: 0.610164] [G loss: -0.667664]\n",
      "[Epoch 97/100] [D loss: 0.667399] [G loss: -0.685660]\n",
      "[Epoch 98/100] [D loss: 0.677646] [G loss: -0.707202]\n",
      "[Epoch 99/100] [D loss: 0.764503] [G loss: -1.268106]\n",
      "[Epoch 100/100] [D loss: 0.666087] [G loss: -0.686512]\n"
     ]
    }
   ],
   "source": [
    "def sample_image(n_row, epoch):\n",
    "    \"\"\"Saves a grid of generated digits ranging from 0 to n_classes\"\"\"\n",
    "    # Sample noise\n",
    "    z = Variable(FloatTensor(np.random.normal(0, 1, (n_row ** 2, params['latent_dim'])))).to(device)\n",
    "    # Get labels ranging from 0 to n_classes for n rows\n",
    "    labels = np.array([num for _ in range(n_row) for num in range(n_row)])\n",
    "    labels = Variable(LongTensor(labels)).to(device)\n",
    "    gen_imgs = generator(z, labels)\n",
    "    save_image(gen_imgs.data, \"./images/cgan/%d.png\" % epoch, nrow=n_row, normalize=True)\n",
    "\n",
    "if not params['load_chk'] :\n",
    "\n",
    "    # Loss functions\n",
    "    if params['loss'] == \"mse\" :\n",
    "        adversarial_loss = torch.nn.MSELoss()\n",
    "    elif params['loss'] == \"bce\" :\n",
    "        adversarial_loss = torch.nn.BCELoss()\n",
    "    elif params['loss'] == \"bce_ns\" :\n",
    "        adversarial_loss = torch.nn.BCELoss()\n",
    "    else :\n",
    "        raise NotImplementedError\n",
    "\n",
    "    # Initialize generator and discriminator\n",
    "    generator = Generator().to(device)\n",
    "    discriminator = Discriminator().to(device)\n",
    "\n",
    "    # Optimizers\n",
    "    optimizer_G = torch.optim.Adam(generator.parameters(), lr=params['lr'], betas=(params['b1'], params['b2']))\n",
    "    optimizer_D = torch.optim.Adam(discriminator.parameters(), lr=params['lr'], betas=(params['b1'], params['b2']))\n",
    "\n",
    "    # ----------\n",
    "    #  Training\n",
    "    # ----------\n",
    "    g_loss_list = []\n",
    "    d_loss_list = []\n",
    "\n",
    "    for epoch in tqdm(range(params['n_epochs'])):\n",
    "        for i, (imgs, labels) in enumerate(dataloader):\n",
    "\n",
    "            batch_size = imgs.shape[0]\n",
    "\n",
    "            # Adversarial ground truths\n",
    "            valid = Variable(FloatTensor(batch_size, 1).fill_(params['P_target']), requires_grad=False).to(device)\n",
    "            fake = Variable(FloatTensor(batch_size, 1).fill_(params['N_target']), requires_grad=False).to(device)\n",
    "\n",
    "            # Configure input\n",
    "            real_imgs = Variable(imgs.type(FloatTensor)).to(device)\n",
    "            labels = Variable(labels.type(LongTensor)).to(device)\n",
    "\n",
    "            # -----------------\n",
    "            #  Train Generator\n",
    "            # -----------------\n",
    "\n",
    "            optimizer_G.zero_grad()\n",
    "\n",
    "            # Sample noise and labels as generator input\n",
    "            z = Variable(FloatTensor(np.random.normal(0, 1, (batch_size, params['latent_dim'])))).to(device)\n",
    "            gen_labels = Variable(LongTensor(np.random.randint(0, params['n_classes'], batch_size))).to(device)\n",
    "\n",
    "            # Generate a batch of images\n",
    "            gen_imgs = generator(z, gen_labels)\n",
    "\n",
    "            # Loss measures generator's ability to fool the discriminator\n",
    "            validity = discriminator(gen_imgs, gen_labels)\n",
    "            #print(validity)\n",
    "\n",
    "            #sat / non-sat G-Loss\n",
    "            if params['loss'] == \"bce_ns\" :\n",
    "                g_loss = adversarial_loss(validity, valid)\n",
    "            elif params['loss'] == \"bce\" :\n",
    "                g_loss = -adversarial_loss(validity, fake)\n",
    "            else :\n",
    "                g_loss = adversarial_loss(validity, valid)\n",
    "\n",
    "            g_loss.backward()\n",
    "            optimizer_G.step()\n",
    "\n",
    "            # ---------------------\n",
    "            #  Train Discriminator\n",
    "            # ---------------------\n",
    "\n",
    "            optimizer_D.zero_grad()\n",
    "\n",
    "            # Loss for real images\n",
    "            validity_real = discriminator(real_imgs, labels)\n",
    "            d_real_loss = adversarial_loss(validity_real, valid)\n",
    "\n",
    "            # Loss for fake images\n",
    "            validity_fake = discriminator(gen_imgs.detach(), gen_labels)\n",
    "            d_fake_loss = adversarial_loss(validity_fake, fake)\n",
    "\n",
    "            # Total discriminator loss\n",
    "            d_loss = (d_real_loss + d_fake_loss) / 2\n",
    "\n",
    "            d_loss.backward()\n",
    "            optimizer_D.step()\n",
    "\n",
    "            # d_loss_list.append(-d_loss.item())\n",
    "            # g_loss_list.append(g_loss.item())\n",
    "\n",
    "        if epoch % params['sample_interval'] == 0:\n",
    "            sample_image(n_row=5, epoch=epoch+1)\n",
    "        \n",
    "        print(\n",
    "            \"[Epoch %d/%d] [D loss: %f] [G loss: %f]\"\n",
    "            % (epoch+1, params['n_epochs'], d_loss.item(), g_loss.item())\n",
    "        )\n",
    "        d_loss_list.append(d_loss.item())\n",
    "        g_loss_list.append(g_loss.item())\n",
    "    \n",
    "    #Save final result\n",
    "    sample_image(n_row=5, epoch=epoch+1)\n",
    "\n",
    "    torch.save({\n",
    "        'gen' : generator.state_dict(),\n",
    "        'disc' : discriminator.state_dict(),\n",
    "    }, './models/cgan_{}.pth'.format(params['n_epochs']))"
   ]
  },
  {
   "attachments": {},
   "cell_type": "markdown",
   "metadata": {},
   "source": [
    "### Loss Graph"
   ]
  },
  {
   "cell_type": "code",
   "execution_count": 7,
   "metadata": {},
   "outputs": [
    {
     "data": {
      "image/png": "[encoded data removed]",
      "text/plain": [
       "<Figure size 640x480 with 1 Axes>"
      ]
     },
     "metadata": {},
     "output_type": "display_data"
    }
   ],
   "source": [
    "import matplotlib.pyplot as plt\n",
    "\n",
    "fig, a = plt.subplots(1,1)\n",
    "\n",
    "l1, = a.plot(g_loss_list, label='Generator')\n",
    "l2, = a.plot(d_loss_list, label='Discriminator')\n",
    "a.set_xlabel('epochs')\n",
    "a.set_ylabel('Loss')\n",
    "a.legend(handles=[l1,l2],loc='lower right')\n",
    "\n",
    "plt.savefig('./gan_loss_graph.png',dpi=150)"
   ]
  },
  {
   "cell_type": "markdown",
   "metadata": {},
   "source": [
    "# Evaluation"
   ]
  },
  {
   "cell_type": "markdown",
   "metadata": {},
   "source": [
    "### CNN for classification"
   ]
  },
  {
   "cell_type": "code",
   "execution_count": 8,
   "metadata": {},
   "outputs": [],
   "source": [
    "class LeNet(nn.Module):\n",
    "    def __init__(self):\n",
    "        super(LeNet, self).__init__()\n",
    "        # Layer 1: Convolutional. Input = 32x32x1. Output = 28x28x6.\n",
    "        self.conv1 = nn.Conv2d(1, 6, (5,5))\n",
    "        # Layer 2: Convolutional. Output = 10x10x16.\n",
    "        self.conv2 = nn.Conv2d(6, 16, (5,5))\n",
    "        # Layer 3: Fully Connected. Input = 400. Output = 120.\n",
    "        self.fc1   = nn.Linear(400, 120)\n",
    "        # Layer 4: Fully Connected. Input = 120. Output = 84.\n",
    "        self.fc2   = nn.Linear(120, 84)\n",
    "        # Layer 5: Fully Connected. Input = 84. Output = 10.\n",
    "        self.fc3   = nn.Linear(84, 10)\n",
    "    def forward(self, x):\n",
    "        # Activation. # Pooling. Input = 28x28x6. Output = 14x14x6.\n",
    "        x = F.max_pool2d(F.relu(self.conv1(x)), (2,2))\n",
    "         # Activation. # Pooling. Input = 10x10x16. Output = 5x5x16.\n",
    "        x = F.max_pool2d(F.relu(self.conv2(x)), (2,2))\n",
    "        # Flatten. Input = 5x5x16. Output = 400.\n",
    "        x = x.flatten(start_dim=1)\n",
    "        # Activation.\n",
    "        x = F.relu(self.fc1(x))\n",
    "        # Activation.\n",
    "        x = F.relu(self.fc2(x))\n",
    "        x = self.fc3(x)\n",
    "        return x\n",
    "    def num_flat_features(self, x):\n",
    "        size = x.size()[1:]\n",
    "        num_features = 1\n",
    "        for s in size:\n",
    "            num_features *= s\n",
    "        return num_features \n",
    "\n",
    "# Train & test part from https://github.com/activatedgeek/LeNet-5\n",
    "def train(epoch, net):\n",
    "    global cur_batch_win\n",
    "    net.train()\n",
    "    loss_list, batch_list = [], []\n",
    "    for i, (images, labels) in enumerate(dataloader):\n",
    "        optimizer.zero_grad()\n",
    "        output = net(images.to(device))\n",
    "        loss = criterion(output, labels.to(device))\n",
    "\n",
    "        loss_list.append(loss.detach().cpu().item())\n",
    "        batch_list.append(i+1)\n",
    "\n",
    "        #if i % 10 == 0:\n",
    "        #    print('Train - Epoch %d, Batch: %d, Loss: %f' % (epoch, i, loss.detach().cpu().item()))\n",
    "\n",
    "        loss.backward()\n",
    "        optimizer.step()\n",
    "\n",
    "def evaluate(target_loader, target_dataset, net):\n",
    "    predictions = []\n",
    "    true_labels = []\n",
    "    outputs = []\n",
    "    net.eval()\n",
    "    total_correct = 0\n",
    "    avg_loss = 0.0\n",
    "    for i, (images, labels) in enumerate(target_loader):\n",
    "        output = F.softmax(net(images.to(device)), dim=1)\n",
    "        avg_loss += criterion(output, labels.to(device)).sum()\n",
    "        pred = output.detach().max(1)[1]\n",
    "        total_correct += pred.eq(labels.to(device).view_as(pred)).sum()\n",
    "        predictions.append(pred.detach().cpu().numpy())\n",
    "        true_labels.append(labels.detach().cpu().numpy())\n",
    "        outputs.append(output.detach().cpu().numpy())\n",
    "\n",
    "    avg_loss /= len(target_dataset)\n",
    "    avg_loss = avg_loss.detach().cpu().item()\n",
    "    accuracy = float(total_correct) / len(target_dataset)\n",
    "    print('Test Avg. Loss: %f, Accuracy: %.3f' % (avg_loss, accuracy))\n",
    "    #return accuracy, np.array(torch.cat(predictions))\n",
    "    return accuracy, avg_loss, predictions, true_labels, outputs"
   ]
  },
  {
   "cell_type": "markdown",
   "metadata": {},
   "source": [
    "### Training"
   ]
  },
  {
   "cell_type": "code",
   "execution_count": 9,
   "metadata": {},
   "outputs": [],
   "source": [
    "if not params['load_chk_cnn'] :\n",
    "\n",
    "    net = LeNet()\n",
    "    criterion = nn.CrossEntropyLoss()\n",
    "    #optimizer = optim.Adam(net.parameters(), lr=0.001)\n",
    "    optimizer = optim.SGD(net.parameters(), lr=0.001)\n",
    "    net.to(device)\n",
    "\n",
    "    print(\"Training...\")\n",
    "    val_acc_list = []\n",
    "    val_loss_list = []\n",
    "\n",
    "    for e in range(params['cnn_epochs']):\n",
    "        print(\"Epoch : {}\".format(e+1), end=' / ')\n",
    "        train(e, net)\n",
    "        val_acc, val_loss, _, _, _ = evaluate(testloader, testset, net)\n",
    "        val_acc_list.append(val_acc)\n",
    "        val_loss_list.append(val_loss)\n",
    "\n",
    "    torch.save({\n",
    "        'cnn' : net.state_dict()\n",
    "        }, './models/cnn_{}.pth'.format(params['cnn_epochs']))"
   ]
  },
  {
   "cell_type": "code",
   "execution_count": 10,
   "metadata": {},
   "outputs": [],
   "source": [
    "if not params['load_chk_cnn'] :\n",
    "\n",
    "    net_w = LeNet()\n",
    "    criterion = nn.CrossEntropyLoss()\n",
    "    #optimizer = optim.Adam(net.parameters(), lr=0.001)\n",
    "    optimizer = optim.SGD(net_w.parameters(), lr=0.001)\n",
    "    net_w.to(device)\n",
    "\n",
    "    print(\"Training...\")\n",
    "    val_acc_list = []\n",
    "    val_loss_list = []\n",
    "\n",
    "    for e in range(params['cnn_epochs_w']):\n",
    "        print(\"Epoch : {}\".format(e+1), end=' / ')\n",
    "        train(e, net_w)\n",
    "        val_acc, val_loss, _, _, _ = evaluate(testloader, testset, net_w)\n",
    "        val_acc_list.append(val_acc)\n",
    "        val_loss_list.append(val_loss)\n",
    "\n",
    "    torch.save({\n",
    "        'cnn' : net_w.state_dict()\n",
    "        }, './models/cnn_{}.pth'.format(params['cnn_epochs_w']))"
   ]
  },
  {
   "cell_type": "markdown",
   "metadata": {},
   "source": [
    "### Load Checkpoint"
   ]
  },
  {
   "cell_type": "code",
   "execution_count": 11,
   "metadata": {},
   "outputs": [],
   "source": [
    "if params['load_chk'] :\n",
    "\n",
    "    #loading models from file\n",
    "    generator = Generator()\n",
    "    discriminator = Discriminator()\n",
    "\n",
    "    chk = torch.load('./models/cgan_{}.pth'.format(params['n_epochs']), map_location=device)\n",
    "    generator.load_state_dict(chk['gen'])\n",
    "    discriminator.load_state_dict(chk['disc'])\n",
    "\n",
    "    generator.to(device)\n",
    "    discriminator.to(device)"
   ]
  },
  {
   "cell_type": "code",
   "execution_count": 12,
   "metadata": {},
   "outputs": [],
   "source": [
    "if params['load_chk_cnn'] :\n",
    "\n",
    "    net = LeNet()\n",
    "    chk_cnn = torch.load('./models/cnn_{}.pth'.format(params['cnn_epochs']), map_location=device)\n",
    "    net.load_state_dict(chk_cnn['cnn'])\n",
    "    net.to(device)\n",
    "\n",
    "    net_w = LeNet()\n",
    "    chk_cnn_w = torch.load('./models/cnn_{}.pth'.format(params['cnn_epochs_w']), map_location=device)\n",
    "    net_w.load_state_dict(chk_cnn_w['cnn'])\n",
    "    net_w.to(device)"
   ]
  },
  {
   "cell_type": "markdown",
   "metadata": {},
   "source": [
    "### TARR, Inception Score\n",
    "- Use label (i) to generate image w/ CGAN -> (i) becomes ground-truth\n",
    "- Compare Prediction Accuracy"
   ]
  },
  {
   "cell_type": "code",
   "execution_count": 13,
   "metadata": {},
   "outputs": [],
   "source": [
    "class TestDataset(Dataset):\n",
    "    def __init__(self, x_data, y_data):\n",
    "        self.x_data = x_data\n",
    "        self.y_data = y_data\n",
    "        self.len = self.y_data.shape[0]\n",
    "\n",
    "    def __getitem__(self, index):\n",
    "        return self.x_data[index], self.y_data[index]\n",
    "\n",
    "    def __len__(self):\n",
    "        return self.len\n",
    "\n",
    "def inception_score(r):\n",
    "    p_y = np.mean(r, axis=0)\n",
    "    e = r/p_y\n",
    "    e = r*np.log(e, where= e>0)\n",
    "    e = np.sum(e, axis=1)\n",
    "    e = np.mean(e, axis=0)\n",
    "    return np.exp(e)"
   ]
  },
  {
   "cell_type": "code",
   "execution_count": 14,
   "metadata": {},
   "outputs": [
    {
     "name": "stdout",
     "output_type": "stream",
     "text": [
      "Test Avg. Loss: 0.024369, Accuracy: 0.945\n",
      "Inception Score - CGAN : 7.794\n"
     ]
    }
   ],
   "source": [
    "# Generated Data for IS evaluation : 10,000 total, random distribution\n",
    "test_size = 1000\n",
    "criterion = nn.CrossEntropyLoss()\n",
    "#test_labels = torch.arange(0, params['n_classes']).repeat(test_size)\n",
    "test_labels = np.random.randint(0, params['n_classes'], test_size*params['n_classes'])\n",
    "\n",
    "# Generate a batch of images\n",
    "z = Variable(FloatTensor(np.random.normal(0, 1, (test_size*params['n_classes'], params['latent_dim'])))).to(device)\n",
    "gen_labels = Variable(LongTensor(test_labels).to(device))\n",
    "gen_imgs = generator(z, gen_labels)\n",
    "\n",
    "gen_dataset = TestDataset(gen_imgs, gen_labels)\n",
    "gen_loader = DataLoader(gen_dataset, batch_size=params['batch_size'], shuffle=True)\n",
    "\n",
    "# Obtain Predictions (w/ softmax)\n",
    "acc, _, predictions, true_labels, outputs = evaluate(gen_loader, gen_dataset, net)\n",
    "\n",
    "r = np.concatenate(outputs)\n",
    "i_score = inception_score(r)\n",
    "print(\"Inception Score - CGAN : {:.3f}\".format(i_score))"
   ]
  },
  {
   "cell_type": "code",
   "execution_count": 15,
   "metadata": {},
   "outputs": [],
   "source": [
    "# Baseline : Real Images (MNIST Test-set)\n",
    "# acc_base, _, predictions_base, true_labels_base, outputs_base = evaluate(testloader, testset, net)\n",
    "\n",
    "# r_base = np.concatenate(outputs_base)\n",
    "# i_score_base = inception_score(r_base)\n",
    "# print(\"Inception Score - Real Images : {:.3f}\".format(i_score_base))"
   ]
  },
  {
   "attachments": {},
   "cell_type": "markdown",
   "metadata": {},
   "source": [
    "### Weak Classifier"
   ]
  },
  {
   "cell_type": "code",
   "execution_count": 16,
   "metadata": {},
   "outputs": [
    {
     "name": "stdout",
     "output_type": "stream",
     "text": [
      "Weak CNN\n",
      "Test Avg. Loss: 0.027784, Accuracy: 0.825\n"
     ]
    }
   ],
   "source": [
    "# Obtain Predictions (w/ softmax)\n",
    "print(\"Weak CNN\")\n",
    "acc, _, predictions, true_labels, outputs = evaluate(gen_loader, gen_dataset, net_w)\n",
    "\n",
    "# Baseline : Real Images (MNIST Test-set)\n",
    "# print(\"Weak CNN - real images\")\n",
    "# acc_base, _, predictions_base, true_labels_base, outputs_base = evaluate(testloader, testset, net_w)"
   ]
  }
 ],
 "metadata": {
  "kernelspec": {
   "display_name": "cs492",
   "language": "python",
   "name": "python3"
  },
  "language_info": {
   "codemirror_mode": {
    "name": "ipython",
    "version": 3
   },
   "file_extension": ".py",
   "mimetype": "text/x-python",
   "name": "python",
   "nbconvert_exporter": "python",
   "pygments_lexer": "ipython3",
   "version": "3.9.13"
  },
  "orig_nbformat": 4,
  "vscode": {
   "interpreter": {
    "hash": "f9eaa0071bc5dcb16cce533dea726e4de7f5d400d29888b640dae9d24ab68ffe"
   }
  }
 },
 "nbformat": 4,
 "nbformat_minor": 2
}
