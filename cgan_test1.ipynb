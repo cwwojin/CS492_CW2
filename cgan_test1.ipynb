{
 "cells": [
  {
   "cell_type": "markdown",
   "metadata": {},
   "source": [
    "# CGAN"
   ]
  },
  {
   "cell_type": "markdown",
   "metadata": {},
   "source": [
    "### Imports"
   ]
  },
  {
   "cell_type": "code",
   "execution_count": 9,
   "metadata": {},
   "outputs": [
    {
     "name": "stdout",
     "output_type": "stream",
     "text": [
      "cpu\n"
     ]
    }
   ],
   "source": [
    "import os\n",
    "import numpy as np\n",
    "import torchvision.transforms as transforms\n",
    "from torchvision.utils import save_image\n",
    "from torch.utils.data import Dataset, DataLoader\n",
    "from torchvision import datasets\n",
    "from torch.autograd import Variable\n",
    "import torch.nn as nn\n",
    "import torch.nn.functional as F\n",
    "import torch\n",
    "import torch.optim as optim\n",
    "\n",
    "FloatTensor = torch.FloatTensor\n",
    "LongTensor = torch.LongTensor\n",
    "\n",
    "if torch.cuda.is_available():\n",
    "    device = torch.device(\"cuda\")\n",
    "else:\n",
    "    device = torch.device(\"cpu\")\n",
    "\n",
    "print(device)"
   ]
  },
  {
   "cell_type": "markdown",
   "metadata": {},
   "source": [
    "### Parameters"
   ]
  },
  {
   "cell_type": "code",
   "execution_count": 10,
   "metadata": {},
   "outputs": [],
   "source": [
    "os.makedirs(\"./images/cgan\", exist_ok=True)\n",
    "os.makedirs(\"./models\", exist_ok=True)\n",
    "\n",
    "params = {\n",
    "    \"n_epochs\" : 200,\n",
    "    \"batch_size\" : 64,\n",
    "    \"lr\" : 2e-4,\n",
    "    \"b1\" : 0.5,\n",
    "    \"b2\" : 0.999,\n",
    "    #\"n_cpu\" : 8,\n",
    "    \"n_classes\" : 10,\n",
    "    \"latent_dim\" : 100,\n",
    "    \"img_size\" : 32,\n",
    "    \"channels\" : 1,\n",
    "    \"sample_interval\" : 1000,\n",
    "    \"load_chk\" : True,\n",
    "}\n",
    "\n",
    "img_shape = (params['channels'], params['img_size'], params['img_size'])"
   ]
  },
  {
   "cell_type": "markdown",
   "metadata": {},
   "source": [
    "### Dataset - MNIST"
   ]
  },
  {
   "cell_type": "code",
   "execution_count": 11,
   "metadata": {},
   "outputs": [],
   "source": [
    "# Configure data loader\n",
    "os.makedirs(\"./data/mnist\", exist_ok=True)\n",
    "\n",
    "dataset = datasets.MNIST(\n",
    "            \"./data/mnist\",\n",
    "            train=True,\n",
    "            download=True,\n",
    "            transform=transforms.Compose(\n",
    "                [transforms.Resize(params['img_size']), transforms.ToTensor(), transforms.Normalize([0.5], [0.5])]\n",
    "            ),\n",
    "        )\n",
    "dataloader = DataLoader(\n",
    "    dataset,\n",
    "    batch_size=params['batch_size'],\n",
    "    shuffle=True,\n",
    ")\n",
    "\n",
    "testset = datasets.MNIST(\n",
    "            \"./data/mnist\",\n",
    "            train=False,\n",
    "            download=True,\n",
    "            transform=transforms.Compose(\n",
    "                [transforms.Resize(params['img_size']), transforms.ToTensor(), transforms.Normalize([0.5], [0.5])]\n",
    "            ),\n",
    "        )\n",
    "testloader = DataLoader(\n",
    "    testset,\n",
    "    batch_size=params['batch_size'],\n",
    "    shuffle=True,\n",
    ")"
   ]
  },
  {
   "cell_type": "markdown",
   "metadata": {},
   "source": [
    "# Generator & Discriminator"
   ]
  },
  {
   "cell_type": "code",
   "execution_count": 12,
   "metadata": {},
   "outputs": [],
   "source": [
    "class Generator(nn.Module):\n",
    "    def __init__(self):\n",
    "        super(Generator, self).__init__()\n",
    "\n",
    "        self.label_emb = nn.Embedding(params['n_classes'], params['n_classes'])\n",
    "\n",
    "        def block(in_feat, out_feat, normalize=True):\n",
    "            layers = [nn.Linear(in_feat, out_feat)]\n",
    "            if normalize:\n",
    "                layers.append(nn.BatchNorm1d(out_feat, 0.8))\n",
    "            layers.append(nn.LeakyReLU(0.2, inplace=True))\n",
    "            return layers\n",
    "\n",
    "        self.model = nn.Sequential(\n",
    "            *block(params['latent_dim'] + params['n_classes'], 128, normalize=False),\n",
    "            *block(128, 256),\n",
    "            *block(256, 512),\n",
    "            *block(512, 1024),\n",
    "            nn.Linear(1024, int(np.prod(img_shape))),\n",
    "            nn.Tanh()\n",
    "        )\n",
    "\n",
    "    def forward(self, noise, labels):\n",
    "        # Concatenate label embedding and image to produce input\n",
    "        gen_input = torch.cat((self.label_emb(labels), noise), -1)\n",
    "        img = self.model(gen_input)\n",
    "        img = img.view(img.size(0), *img_shape)\n",
    "        return img\n",
    "\n",
    "\n",
    "class Discriminator(nn.Module):\n",
    "    def __init__(self):\n",
    "        super(Discriminator, self).__init__()\n",
    "\n",
    "        self.label_embedding = nn.Embedding(params['n_classes'], params['n_classes'])\n",
    "\n",
    "        self.model = nn.Sequential(\n",
    "            nn.Linear(params['n_classes'] + int(np.prod(img_shape)), 512),\n",
    "            nn.LeakyReLU(0.2, inplace=True),\n",
    "            nn.Linear(512, 512),\n",
    "            nn.Dropout(0.4),\n",
    "            nn.LeakyReLU(0.2, inplace=True),\n",
    "            nn.Linear(512, 512),\n",
    "            nn.Dropout(0.4),\n",
    "            nn.LeakyReLU(0.2, inplace=True),\n",
    "            nn.Linear(512, 1),\n",
    "        )\n",
    "\n",
    "    def forward(self, img, labels):\n",
    "        # Concatenate label embedding and image to produce input\n",
    "        d_in = torch.cat((img.view(img.size(0), -1), self.label_embedding(labels)), -1)\n",
    "        validity = self.model(d_in)\n",
    "        return validity"
   ]
  },
  {
   "cell_type": "markdown",
   "metadata": {},
   "source": [
    "### Training"
   ]
  },
  {
   "cell_type": "code",
   "execution_count": 13,
   "metadata": {},
   "outputs": [],
   "source": [
    "def sample_image(n_row, batches_done):\n",
    "    \"\"\"Saves a grid of generated digits ranging from 0 to n_classes\"\"\"\n",
    "    # Sample noise\n",
    "    z = Variable(FloatTensor(np.random.normal(0, 1, (n_row ** 2, params['latent_dim'])))).to(device)\n",
    "    # Get labels ranging from 0 to n_classes for n rows\n",
    "    labels = np.array([num for _ in range(n_row) for num in range(n_row)])\n",
    "    labels = Variable(LongTensor(labels)).to(device)\n",
    "    gen_imgs = generator(z, labels)\n",
    "    save_image(gen_imgs.data, \"./images/cgan/%d.png\" % batches_done, nrow=n_row, normalize=True)\n",
    "\n",
    "if not params['load_chk'] :\n",
    "\n",
    "    # Loss functions\n",
    "    adversarial_loss = torch.nn.MSELoss()\n",
    "\n",
    "    # Initialize generator and discriminator\n",
    "    generator = Generator()\n",
    "    discriminator = Discriminator()\n",
    "    #adversarial_loss.to(device)\n",
    "\n",
    "    generator.to(device)\n",
    "    discriminator.to(device)\n",
    "\n",
    "    # Optimizers\n",
    "    optimizer_G = torch.optim.Adam(generator.parameters(), lr=params['lr'], betas=(params['b1'], params['b2']))\n",
    "    optimizer_D = torch.optim.Adam(discriminator.parameters(), lr=params['lr'], betas=(params['b1'], params['b2']))\n",
    "\n",
    "    # ----------\n",
    "    #  Training\n",
    "    # ----------\n",
    "    g_loss_list = []\n",
    "    d_loss_list = []\n",
    "\n",
    "    for epoch in range(params['n_epochs']):\n",
    "        for i, (imgs, labels) in enumerate(dataloader):\n",
    "\n",
    "            batch_size = imgs.shape[0]\n",
    "\n",
    "            # Adversarial ground truths\n",
    "            valid = Variable(FloatTensor(batch_size, 1).fill_(1.0), requires_grad=False).to(device)\n",
    "            fake = Variable(FloatTensor(batch_size, 1).fill_(0.0), requires_grad=False).to(device)\n",
    "\n",
    "            # Configure input\n",
    "            real_imgs = Variable(imgs.type(FloatTensor)).to(device)\n",
    "            labels = Variable(labels.type(LongTensor)).to(device)\n",
    "\n",
    "            # -----------------\n",
    "            #  Train Generator\n",
    "            # -----------------\n",
    "\n",
    "            optimizer_G.zero_grad()\n",
    "\n",
    "            # Sample noise and labels as generator input\n",
    "            z = Variable(FloatTensor(np.random.normal(0, 1, (batch_size, params['latent_dim'])))).to(device)\n",
    "            gen_labels = Variable(LongTensor(np.random.randint(0, params['n_classes'], batch_size))).to(device)\n",
    "\n",
    "            # Generate a batch of images\n",
    "            gen_imgs = generator(z, gen_labels)\n",
    "\n",
    "            # Loss measures generator's ability to fool the discriminator\n",
    "            validity = discriminator(gen_imgs, gen_labels)\n",
    "            g_loss = adversarial_loss(validity, valid)\n",
    "\n",
    "            g_loss.backward()\n",
    "            optimizer_G.step()\n",
    "\n",
    "            # ---------------------\n",
    "            #  Train Discriminator\n",
    "            # ---------------------\n",
    "\n",
    "            optimizer_D.zero_grad()\n",
    "\n",
    "            # Loss for real images\n",
    "            validity_real = discriminator(real_imgs, labels)\n",
    "            d_real_loss = adversarial_loss(validity_real, valid)\n",
    "\n",
    "            # Loss for fake images\n",
    "            validity_fake = discriminator(gen_imgs.detach(), gen_labels)\n",
    "            d_fake_loss = adversarial_loss(validity_fake, fake)\n",
    "\n",
    "            # Total discriminator loss\n",
    "            d_loss = (d_real_loss + d_fake_loss) / 2\n",
    "\n",
    "            d_loss.backward()\n",
    "            optimizer_D.step()\n",
    "\n",
    "            batches_done = epoch * len(dataloader) + i\n",
    "            if batches_done % params['sample_interval'] == 0:\n",
    "                sample_image(n_row=10, batches_done=batches_done)\n",
    "\n",
    "        print(\n",
    "            \"[Epoch %d/%d] [D loss: %f] [G loss: %f]\"\n",
    "            % (epoch+1, params['n_epochs'], d_loss.item(), g_loss.item())\n",
    "        )\n",
    "        d_loss_list.append(d_loss.item())\n",
    "        g_loss_list.append(g_loss.item())\n",
    "\n",
    "    torch.save({\n",
    "        'gen' : generator.state_dict(),\n",
    "        'disc' : discriminator.state_dict(),\n",
    "    }, './models/cgan.pth')"
   ]
  },
  {
   "cell_type": "markdown",
   "metadata": {},
   "source": [
    "# Evaluation"
   ]
  },
  {
   "cell_type": "markdown",
   "metadata": {},
   "source": [
    "### CNN for classification"
   ]
  },
  {
   "cell_type": "code",
   "execution_count": 14,
   "metadata": {},
   "outputs": [],
   "source": [
    "class LeNet(nn.Module):\n",
    "    def __init__(self):\n",
    "        super(LeNet, self).__init__()\n",
    "        # Layer 1: Convolutional. Input = 32x32x1. Output = 28x28x6.\n",
    "        self.conv1 = nn.Conv2d(1, 6, (5,5))\n",
    "        # Layer 2: Convolutional. Output = 10x10x16.\n",
    "        self.conv2 = nn.Conv2d(6, 16, (5,5))\n",
    "        # Layer 3: Fully Connected. Input = 400. Output = 120.\n",
    "        self.fc1   = nn.Linear(400, 120)\n",
    "        # Layer 4: Fully Connected. Input = 120. Output = 84.\n",
    "        self.fc2   = nn.Linear(120, 84)\n",
    "        # Layer 5: Fully Connected. Input = 84. Output = 10.\n",
    "        self.fc3   = nn.Linear(84, 10)\n",
    "    def forward(self, x):\n",
    "        # Activation. # Pooling. Input = 28x28x6. Output = 14x14x6.\n",
    "        x = F.max_pool2d(F.relu(self.conv1(x)), (2,2))\n",
    "         # Activation. # Pooling. Input = 10x10x16. Output = 5x5x16.\n",
    "        x = F.max_pool2d(F.relu(self.conv2(x)), (2,2))\n",
    "        # Flatten. Input = 5x5x16. Output = 400.\n",
    "        x = x.flatten(start_dim=1)\n",
    "        # Activation.\n",
    "        x = F.relu(self.fc1(x))\n",
    "        # Activation.\n",
    "        x = F.relu(self.fc2(x))\n",
    "        x = self.fc3(x)\n",
    "        return x\n",
    "    def num_flat_features(self, x):\n",
    "        size = x.size()[1:]\n",
    "        num_features = 1\n",
    "        for s in size:\n",
    "            num_features *= s\n",
    "        return num_features \n",
    "\n",
    "# Train & test part from https://github.com/activatedgeek/LeNet-5\n",
    "def train(epoch):\n",
    "    global cur_batch_win\n",
    "    net.train()\n",
    "    loss_list, batch_list = [], []\n",
    "    for i, (images, labels) in enumerate(dataloader):\n",
    "        optimizer.zero_grad()\n",
    "        output = net(images.to(device))\n",
    "        loss = criterion(output, labels.to(device))\n",
    "\n",
    "        loss_list.append(loss.detach().cpu().item())\n",
    "        batch_list.append(i+1)\n",
    "\n",
    "        #if i % 10 == 0:\n",
    "        #    print('Train - Epoch %d, Batch: %d, Loss: %f' % (epoch, i, loss.detach().cpu().item()))\n",
    "\n",
    "        loss.backward()\n",
    "        optimizer.step()\n",
    "\n",
    "def evaluate(target_loader, target_dataset):\n",
    "    predictions = []\n",
    "    net.eval()\n",
    "    total_correct = 0\n",
    "    avg_loss = 0.0\n",
    "    for i, (images, labels) in enumerate(target_loader):\n",
    "        output = net(images.to(device))\n",
    "        avg_loss += criterion(output, labels.to(device)).sum()\n",
    "        pred = output.detach().max(1)[1]\n",
    "        total_correct += pred.eq(labels.to(device).view_as(pred)).sum()\n",
    "        predictions.append(pred)\n",
    "\n",
    "    avg_loss /= len(target_dataset)\n",
    "    avg_loss = avg_loss.detach().cpu().item()\n",
    "    accuracy    = float(total_correct) / len(target_dataset)\n",
    "    print('Test Avg. Loss: %f, Accuracy: %f' % (avg_loss, accuracy))\n",
    "    #return accuracy, np.array(torch.cat(predictions))\n",
    "    return accuracy, avg_loss"
   ]
  },
  {
   "cell_type": "markdown",
   "metadata": {},
   "source": [
    "### Training"
   ]
  },
  {
   "cell_type": "code",
   "execution_count": 15,
   "metadata": {},
   "outputs": [],
   "source": [
    "EPOCHS = 20\n",
    "if not params['load_chk'] :\n",
    "\n",
    "    net = LeNet()\n",
    "    criterion = nn.CrossEntropyLoss()\n",
    "    #optimizer = optim.Adam(net.parameters(), lr=0.001)\n",
    "    optimizer = optim.SGD(net.parameters(), lr=0.001)\n",
    "    net.to(device)\n",
    "\n",
    "    print(\"Training...\")\n",
    "    val_acc_list = []\n",
    "    val_loss_list = []\n",
    "\n",
    "    for e in range(EPOCHS):\n",
    "        print(\"Epoch : {}\".format(e+1))\n",
    "        train(e)\n",
    "        val_acc, val_loss = evaluate(testloader, testset)\n",
    "        val_acc_list.append(val_acc)\n",
    "        val_loss_list.append(val_loss)\n",
    "\n",
    "    torch.save({\n",
    "        'cnn' : net.state_dict()\n",
    "        }, './models/cnn_{}.pth'.format(EPOCHS))"
   ]
  },
  {
   "cell_type": "markdown",
   "metadata": {},
   "source": [
    "### Load Checkpoint"
   ]
  },
  {
   "cell_type": "code",
   "execution_count": 16,
   "metadata": {},
   "outputs": [],
   "source": [
    "if params['load_chk'] :\n",
    "\n",
    "    #loading models from file\n",
    "    generator = Generator()\n",
    "    discriminator = Discriminator()\n",
    "    net = LeNet()\n",
    "\n",
    "    chk = torch.load('./models/cgan.pth', map_location=device)\n",
    "    chk_cnn = torch.load('./models/cnn_{}.pth'.format(EPOCHS), map_location=device)\n",
    "    generator.load_state_dict(chk['gen'])\n",
    "    discriminator.load_state_dict(chk['disc'])\n",
    "    net.load_state_dict(chk_cnn['cnn'])\n",
    "\n",
    "    generator.to(device)\n",
    "    discriminator.to(device)\n",
    "    net.to(device)"
   ]
  },
  {
   "cell_type": "markdown",
   "metadata": {},
   "source": [
    "### Inception Score"
   ]
  },
  {
   "cell_type": "code",
   "execution_count": 17,
   "metadata": {},
   "outputs": [
    {
     "name": "stdout",
     "output_type": "stream",
     "text": [
      "Inception Score : 8.422941207885742\n"
     ]
    }
   ],
   "source": [
    "def inception_score(r):\n",
    "    p_y = np.mean(r, axis=0)\n",
    "    e = r/p_y\n",
    "    e = r*np.log(e, where= e>0)\n",
    "    e = np.sum(e, axis=1)\n",
    "    e = np.mean(e, axis=0)\n",
    "    return np.exp(e)\n",
    "\n",
    "# Generated Data for IS evaluation : 1,000 total\n",
    "test_size = 1000\n",
    "\n",
    "# Generate a batch of images\n",
    "z = Variable(FloatTensor(np.random.normal(0, 1, (test_size, params['latent_dim'])))).to(device)\n",
    "gen_labels = Variable(LongTensor(np.random.randint(0, params['n_classes'], test_size))).to(device)\n",
    "gen_imgs = generator(z, gen_labels)\n",
    "\n",
    "# Obtain Predictions (w/ softmax)\n",
    "preds = F.softmax(net(gen_imgs),dim=1)\n",
    "r = preds.cpu().detach().numpy()\n",
    "\n",
    "i_score = inception_score(r)\n",
    "print(\"Inception Score : {}\".format(i_score))"
   ]
  },
  {
   "cell_type": "markdown",
   "metadata": {},
   "source": [
    "### TARR\n",
    "- Use label (i) to generate image w/ CGAN -> (i) becomes ground-truth\n",
    "- Compare Prediction Accuracy"
   ]
  },
  {
   "cell_type": "code",
   "execution_count": 18,
   "metadata": {},
   "outputs": [],
   "source": [
    "class TestDataset(Dataset):\n",
    "    def __init__(self, x_data, y_data):\n",
    "        self.x_data = x_data\n",
    "        self.y_data = y_data\n",
    "        self.len = self.y_data.shape[0]\n",
    "\n",
    "    def __getitem__(self, index):\n",
    "        return self.x_data[index], self.y_data[index]\n",
    "\n",
    "    def __len__(self):\n",
    "        return self.len"
   ]
  },
  {
   "cell_type": "code",
   "execution_count": 19,
   "metadata": {},
   "outputs": [
    {
     "name": "stdout",
     "output_type": "stream",
     "text": [
      "Test Avg. Loss: 0.001321, Accuracy: 0.978100\n"
     ]
    }
   ],
   "source": [
    "# Generated Data for IS evaluation : 10,000 total, 1000 of each class\n",
    "test_size = 1000\n",
    "criterion = nn.CrossEntropyLoss()\n",
    "test_labels = torch.arange(0, params['n_classes']).repeat(test_size)\n",
    "\n",
    "# Generate a batch of images\n",
    "z = Variable(FloatTensor(np.random.normal(0, 1, (test_size*params['n_classes'], params['latent_dim'])))).to(device)\n",
    "gen_labels = Variable(LongTensor(test_labels).to(device))\n",
    "gen_imgs = generator(z, gen_labels)\n",
    "\n",
    "gen_dataset = TestDataset(gen_imgs, gen_labels)\n",
    "gen_loader = DataLoader(gen_dataset, batch_size=params['batch_size'], shuffle=True)\n",
    "\n",
    "acc = evaluate(gen_loader, gen_dataset)"
   ]
  }
 ],
 "metadata": {
  "kernelspec": {
   "display_name": "Python 3.9.15 ('cs492_cw2')",
   "language": "python",
   "name": "python3"
  },
  "language_info": {
   "codemirror_mode": {
    "name": "ipython",
    "version": 3
   },
   "file_extension": ".py",
   "mimetype": "text/x-python",
   "name": "python",
   "nbconvert_exporter": "python",
   "pygments_lexer": "ipython3",
   "version": "3.9.15"
  },
  "orig_nbformat": 4,
  "vscode": {
   "interpreter": {
    "hash": "639b769f08db0018c0779f3b8693e13fde466794d9285766d7f04c5a09986b6c"
   }
  }
 },
 "nbformat": 4,
 "nbformat_minor": 2
}
